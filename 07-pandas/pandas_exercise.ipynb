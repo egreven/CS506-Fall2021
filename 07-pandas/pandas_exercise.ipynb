{
  "cells": [
    {
      "cell_type": "markdown",
      "metadata": {
        "id": "fsnPXoFH8CDo"
      },
      "source": [
        "<font size=\"8\"> Introduction to Pandas </font> "
      ]
    },
    {
      "cell_type": "markdown",
      "metadata": {
        "id": "ARXA3MMF8CDq"
      },
      "source": [
        "\n",
        "<font size=\"5\"> Import libraries </font>  \n"
      ]
    },
    {
      "cell_type": "code",
      "execution_count": 1,
      "metadata": {
        "id": "MV2pdXfP8CDq"
      },
      "outputs": [],
      "source": [
        "import numpy as np\n",
        "import pandas as pd"
      ]
    },
    {
      "cell_type": "markdown",
      "metadata": {
        "id": "smY7Go_E8CDr"
      },
      "source": [
        "<font size=\"5\"> Initializing instances in Pandas </font>  \n",
        "\n"
      ]
    },
    {
      "cell_type": "code",
      "execution_count": 2,
      "metadata": {
        "colab": {
          "base_uri": "https://localhost:8080/",
          "height": 235
        },
        "id": "eNZp_zoh8CDs",
        "outputId": "a1ebfb74-71a8-462e-dac9-ab9507568e7f"
      },
      "outputs": [
        {
          "output_type": "execute_result",
          "data": {
            "text/html": [
              "<div>\n",
              "<style scoped>\n",
              "    .dataframe tbody tr th:only-of-type {\n",
              "        vertical-align: middle;\n",
              "    }\n",
              "\n",
              "    .dataframe tbody tr th {\n",
              "        vertical-align: top;\n",
              "    }\n",
              "\n",
              "    .dataframe thead th {\n",
              "        text-align: right;\n",
              "    }\n",
              "</style>\n",
              "<table border=\"1\" class=\"dataframe\">\n",
              "  <thead>\n",
              "    <tr style=\"text-align: right;\">\n",
              "      <th></th>\n",
              "      <th>Name</th>\n",
              "      <th>Age</th>\n",
              "      <th>Salary</th>\n",
              "      <th>Group</th>\n",
              "    </tr>\n",
              "  </thead>\n",
              "  <tbody>\n",
              "    <tr>\n",
              "      <th>0</th>\n",
              "      <td>Elaine</td>\n",
              "      <td>44</td>\n",
              "      <td>7000</td>\n",
              "      <td>MA</td>\n",
              "    </tr>\n",
              "    <tr>\n",
              "      <th>1</th>\n",
              "      <td>Josh</td>\n",
              "      <td>17</td>\n",
              "      <td>5800</td>\n",
              "      <td>NW</td>\n",
              "    </tr>\n",
              "    <tr>\n",
              "      <th>2</th>\n",
              "      <td>Lin</td>\n",
              "      <td>64</td>\n",
              "      <td>7900</td>\n",
              "      <td>NM</td>\n",
              "    </tr>\n",
              "    <tr>\n",
              "      <th>3</th>\n",
              "      <td>Naho</td>\n",
              "      <td>33</td>\n",
              "      <td>5600</td>\n",
              "      <td>WA</td>\n",
              "    </tr>\n",
              "    <tr>\n",
              "      <th>4</th>\n",
              "      <td>Steve</td>\n",
              "      <td>45</td>\n",
              "      <td>6700</td>\n",
              "      <td>PA</td>\n",
              "    </tr>\n",
              "    <tr>\n",
              "      <th>5</th>\n",
              "      <td>Charles</td>\n",
              "      <td>25</td>\n",
              "      <td>5900</td>\n",
              "      <td>TX</td>\n",
              "    </tr>\n",
              "  </tbody>\n",
              "</table>\n",
              "</div>"
            ],
            "text/plain": [
              "      Name  Age  Salary Group\n",
              "0   Elaine   44    7000    MA\n",
              "1     Josh   17    5800    NW\n",
              "2      Lin   64    7900    NM\n",
              "3     Naho   33    5600    WA\n",
              "4    Steve   45    6700    PA\n",
              "5  Charles   25    5900    TX"
            ]
          },
          "metadata": {},
          "execution_count": 2
        }
      ],
      "source": [
        "df = pd.DataFrame({'Name': ['Elaine', 'Josh', 'Lin', 'Naho', 'Steve', 'Charles'],\n",
        "                   'Age': [44, 17, 64, 33, 45, 25],\n",
        "                   'Salary': [7000, 5800, 7900, 5600, 6700, 5900],\n",
        "                   'Group': ['MA', 'NW', 'NM', 'WA', 'PA', 'TX']})\n",
        "df"
      ]
    },
    {
      "cell_type": "code",
      "execution_count": null,
      "metadata": {
        "id": "P4INJA-g8CDs"
      },
      "outputs": [],
      "source": [
        ""
      ]
    },
    {
      "cell_type": "markdown",
      "metadata": {
        "id": "iYW_oysv8CDs"
      },
      "source": [
        "\n",
        "<font size=\"5\"> Overview of the dataframe </font>  \n"
      ]
    },
    {
      "cell_type": "code",
      "execution_count": 3,
      "metadata": {
        "colab": {
          "base_uri": "https://localhost:8080/"
        },
        "id": "B7Ah3rk48CDt",
        "outputId": "76bfbda7-6c31-4074-b3c1-4b35c72faf23"
      },
      "outputs": [
        {
          "output_type": "stream",
          "name": "stdout",
          "text": [
            "     Name  Age  Salary Group\n",
            "0  Elaine   44    7000    MA\n",
            "1    Josh   17    5800    NW\n",
            "2     Lin   64    7900    NM\n",
            "3    Naho   33    5600    WA\n",
            "4   Steve   45    6700    PA\n"
          ]
        }
      ],
      "source": [
        "# check top rows\n",
        "print(df.head())"
      ]
    },
    {
      "cell_type": "code",
      "execution_count": 5,
      "metadata": {
        "colab": {
          "base_uri": "https://localhost:8080/"
        },
        "id": "8bxrz1EU8CDt",
        "outputId": "3e1e87dc-bcb2-4f3a-93fb-3004b6daf808"
      },
      "outputs": [
        {
          "output_type": "stream",
          "name": "stdout",
          "text": [
            "      Name  Age  Salary Group\n",
            "3     Naho   33    5600    WA\n",
            "4    Steve   45    6700    PA\n",
            "5  Charles   25    5900    TX\n"
          ]
        }
      ],
      "source": [
        "# check bottom rows\n",
        "print(df.tail(3)) "
      ]
    },
    {
      "cell_type": "code",
      "execution_count": 6,
      "metadata": {
        "colab": {
          "base_uri": "https://localhost:8080/"
        },
        "id": "0WyMwQ8A8CDu",
        "outputId": "16bb9688-acc4-43ff-f3d3-66d47dd42fe9"
      },
      "outputs": [
        {
          "output_type": "stream",
          "name": "stdout",
          "text": [
            "RangeIndex(start=0, stop=6, step=1)\n"
          ]
        }
      ],
      "source": [
        "# check index\n",
        "print(df.index) "
      ]
    },
    {
      "cell_type": "code",
      "execution_count": 7,
      "metadata": {
        "colab": {
          "base_uri": "https://localhost:8080/"
        },
        "id": "XSV5wgcE8CDu",
        "outputId": "f67359c6-fc11-4a8a-8668-5fafd53b125b"
      },
      "outputs": [
        {
          "output_type": "stream",
          "name": "stdout",
          "text": [
            "Index(['Name', 'Age', 'Salary', 'Group'], dtype='object')\n"
          ]
        }
      ],
      "source": [
        "# check attribute names\n",
        "print(df.columns) "
      ]
    },
    {
      "cell_type": "code",
      "execution_count": 8,
      "metadata": {
        "colab": {
          "base_uri": "https://localhost:8080/"
        },
        "id": "3TsfGxaF8CDv",
        "outputId": "6e5a8a85-38f9-41a9-fb0a-881ffd7e01bc"
      },
      "outputs": [
        {
          "output_type": "stream",
          "name": "stdout",
          "text": [
            "Name      ElaineJoshLinNahoSteveCharles\n",
            "Age                                 228\n",
            "Salary                            38900\n",
            "Group                      MANWNMWAPATX\n",
            "dtype: object\n"
          ]
        }
      ],
      "source": [
        "# check sum \n",
        "print(df.sum())"
      ]
    },
    {
      "cell_type": "code",
      "execution_count": 9,
      "metadata": {
        "colab": {
          "base_uri": "https://localhost:8080/"
        },
        "id": "4A-SuzSM8CDv",
        "outputId": "a3ee0086-f0b1-46f5-a7e3-94f0e9553897"
      },
      "outputs": [
        {
          "output_type": "stream",
          "name": "stdout",
          "text": [
            "Age         38.000000\n",
            "Salary    6483.333333\n",
            "dtype: float64\n"
          ]
        }
      ],
      "source": [
        "# check mean\n",
        "print(df.mean())"
      ]
    },
    {
      "cell_type": "markdown",
      "metadata": {
        "id": "EC2L2CCU8CDv"
      },
      "source": [
        "<font size=\"5\"> Basic operations </font>  \n"
      ]
    },
    {
      "cell_type": "code",
      "execution_count": 10,
      "metadata": {
        "colab": {
          "base_uri": "https://localhost:8080/"
        },
        "id": "5M7yaS528CDw",
        "outputId": "3a5768b1-15b3-4004-ba83-3fc7677559fa"
      },
      "outputs": [
        {
          "output_type": "stream",
          "name": "stdout",
          "text": [
            "0    44\n",
            "1    17\n",
            "2    64\n",
            "3    33\n",
            "4    45\n",
            "5    25\n",
            "Name: Age, dtype: int64\n"
          ]
        }
      ],
      "source": [
        "# Taking subsets of columns\n",
        "print(df['Age'])"
      ]
    },
    {
      "cell_type": "code",
      "execution_count": 11,
      "metadata": {
        "colab": {
          "base_uri": "https://localhost:8080/"
        },
        "id": "2jrpD5Km8CDx",
        "outputId": "e7a4340d-8b51-4863-e419-81a978c9583e"
      },
      "outputs": [
        {
          "output_type": "stream",
          "name": "stdout",
          "text": [
            "   Name  Age  Salary Group\n",
            "2   Lin   64    7900    NM\n",
            "3  Naho   33    5600    WA\n"
          ]
        }
      ],
      "source": [
        "# Selecting rows with index\n",
        "print(df[2:4])"
      ]
    },
    {
      "cell_type": "code",
      "execution_count": 12,
      "metadata": {
        "colab": {
          "base_uri": "https://localhost:8080/"
        },
        "id": "QbnzGWq18CDx",
        "outputId": "e430a9aa-0d9f-4621-da14-a6877e69e2f0"
      },
      "outputs": [
        {
          "output_type": "stream",
          "name": "stdout",
          "text": [
            "   Salary   Name\n",
            "1    5800   Josh\n",
            "2    7900    Lin\n",
            "3    5600   Naho\n",
            "4    6700  Steve\n"
          ]
        }
      ],
      "source": [
        "# Selecting rows and columns together with value\n",
        "print(df.loc[1:4, ['Salary','Name']])"
      ]
    },
    {
      "cell_type": "code",
      "execution_count": 13,
      "metadata": {
        "colab": {
          "base_uri": "https://localhost:8080/"
        },
        "id": "96U-UfRO8CDy",
        "outputId": "7333d5de-b353-44e2-e78e-56ec0a756b7a"
      },
      "outputs": [
        {
          "output_type": "stream",
          "name": "stdout",
          "text": [
            "   Salary Group\n",
            "1    5800    NW\n",
            "2    7900    NM\n",
            "3    5600    WA\n"
          ]
        }
      ],
      "source": [
        "# Selecting rows and columns together with index\n",
        "print(df.iloc[1:4, 2:4])"
      ]
    },
    {
      "cell_type": "code",
      "execution_count": 14,
      "metadata": {
        "colab": {
          "base_uri": "https://localhost:8080/"
        },
        "id": "WwEKHGUd8CDy",
        "outputId": "beaaa7f9-7071-486a-cc71-8e48aa2260ae"
      },
      "outputs": [
        {
          "output_type": "stream",
          "name": "stdout",
          "text": [
            "   Age Group\n",
            "1   17    NW\n",
            "3   33    WA\n",
            "4   45    PA\n"
          ]
        }
      ],
      "source": [
        "# Selecting rows and columns together with index\n",
        "print(df.iloc[[1,3,4], [1,3]])"
      ]
    },
    {
      "cell_type": "code",
      "execution_count": 15,
      "metadata": {
        "colab": {
          "base_uri": "https://localhost:8080/"
        },
        "id": "-W4ttb-f8CDz",
        "outputId": "e84281fc-98e7-42c0-8f9e-1830a1fa5189"
      },
      "outputs": [
        {
          "output_type": "stream",
          "name": "stdout",
          "text": [
            "      Name  Age  Salary Group\n",
            "0   Elaine   44    7000    MA\n",
            "1     Josh   17    5800    NW\n",
            "2      Lin   64    7900    NM\n",
            "3     Naho   33    5600    WA\n",
            "4    Steve   45    6700    PA\n",
            "5  Charles   25    5900    TX\n"
          ]
        }
      ],
      "source": [
        "# Selecting with query\n",
        "print(df[df['Salary']>100])"
      ]
    },
    {
      "cell_type": "code",
      "execution_count": 16,
      "metadata": {
        "colab": {
          "base_uri": "https://localhost:8080/"
        },
        "id": "iHw_m33l8CDz",
        "outputId": "4fde7ea5-031a-4be6-f9d7-d0f5750e2d0c"
      },
      "outputs": [
        {
          "output_type": "stream",
          "name": "stdout",
          "text": [
            "     Name  Age  Salary Group\n",
            "0  Elaine   44    7000    MA\n",
            "2     Lin   64    7900    NM\n",
            "3    Naho   33    5600    WA\n",
            "4   Steve   45    6700    PA\n"
          ]
        }
      ],
      "source": [
        "# Selecting with multiple queries\n",
        "print(df[(df['Salary']>100) & (df['Age']>30)])"
      ]
    },
    {
      "cell_type": "code",
      "execution_count": 17,
      "metadata": {
        "colab": {
          "base_uri": "https://localhost:8080/"
        },
        "id": "xnhOxMRh8CD0",
        "outputId": "c458b582-9c67-46a4-ea05-12f37824cc48"
      },
      "outputs": [
        {
          "output_type": "stream",
          "name": "stdout",
          "text": [
            "      Name  Age  Salary Group\n",
            "2      Lin   64    7900    NM\n",
            "4    Steve   45    6700    PA\n",
            "0   Elaine   44    7000    MA\n",
            "3     Naho   33    5600    WA\n",
            "5  Charles   25    5900    TX\n",
            "1     Josh   17    5800    NW\n"
          ]
        }
      ],
      "source": [
        "# sort according to specific attribute\n",
        "print(df.sort_values(by='Age', ascending=False)) "
      ]
    },
    {
      "cell_type": "code",
      "execution_count": 18,
      "metadata": {
        "colab": {
          "base_uri": "https://localhost:8080/",
          "height": 297
        },
        "id": "3a4WhVqZ8CD0",
        "outputId": "750e9707-5208-40c0-e107-fe1e432fbc91"
      },
      "outputs": [
        {
          "output_type": "execute_result",
          "data": {
            "text/html": [
              "<div>\n",
              "<style scoped>\n",
              "    .dataframe tbody tr th:only-of-type {\n",
              "        vertical-align: middle;\n",
              "    }\n",
              "\n",
              "    .dataframe tbody tr th {\n",
              "        vertical-align: top;\n",
              "    }\n",
              "\n",
              "    .dataframe thead th {\n",
              "        text-align: right;\n",
              "    }\n",
              "</style>\n",
              "<table border=\"1\" class=\"dataframe\">\n",
              "  <thead>\n",
              "    <tr style=\"text-align: right;\">\n",
              "      <th></th>\n",
              "      <th>Name</th>\n",
              "      <th>Age</th>\n",
              "      <th>Salary</th>\n",
              "      <th>Group</th>\n",
              "    </tr>\n",
              "  </thead>\n",
              "  <tbody>\n",
              "    <tr>\n",
              "      <th>0</th>\n",
              "      <td>Elaine</td>\n",
              "      <td>44.0</td>\n",
              "      <td>7000.0</td>\n",
              "      <td>MA</td>\n",
              "    </tr>\n",
              "    <tr>\n",
              "      <th>1</th>\n",
              "      <td>Josh</td>\n",
              "      <td>17.0</td>\n",
              "      <td>5800.0</td>\n",
              "      <td>NW</td>\n",
              "    </tr>\n",
              "    <tr>\n",
              "      <th>2</th>\n",
              "      <td>Lin</td>\n",
              "      <td>64.0</td>\n",
              "      <td>7900.0</td>\n",
              "      <td>NM</td>\n",
              "    </tr>\n",
              "    <tr>\n",
              "      <th>3</th>\n",
              "      <td>Naho</td>\n",
              "      <td>33.0</td>\n",
              "      <td>5600.0</td>\n",
              "      <td>WA</td>\n",
              "    </tr>\n",
              "    <tr>\n",
              "      <th>4</th>\n",
              "      <td>Steve</td>\n",
              "      <td>45.0</td>\n",
              "      <td>6700.0</td>\n",
              "      <td>PA</td>\n",
              "    </tr>\n",
              "    <tr>\n",
              "      <th>5</th>\n",
              "      <td>Charles</td>\n",
              "      <td>25.0</td>\n",
              "      <td>5900.0</td>\n",
              "      <td>TX</td>\n",
              "    </tr>\n",
              "    <tr>\n",
              "      <th>6</th>\n",
              "      <td>Chris</td>\n",
              "      <td>18.0</td>\n",
              "      <td>NaN</td>\n",
              "      <td>NV</td>\n",
              "    </tr>\n",
              "    <tr>\n",
              "      <th>7</th>\n",
              "      <td>Peter</td>\n",
              "      <td>NaN</td>\n",
              "      <td>9.0</td>\n",
              "      <td>FL</td>\n",
              "    </tr>\n",
              "  </tbody>\n",
              "</table>\n",
              "</div>"
            ],
            "text/plain": [
              "      Name   Age  Salary Group\n",
              "0   Elaine  44.0  7000.0    MA\n",
              "1     Josh  17.0  5800.0    NW\n",
              "2      Lin  64.0  7900.0    NM\n",
              "3     Naho  33.0  5600.0    WA\n",
              "4    Steve  45.0  6700.0    PA\n",
              "5  Charles  25.0  5900.0    TX\n",
              "6    Chris  18.0     NaN    NV\n",
              "7    Peter   NaN     9.0    FL"
            ]
          },
          "metadata": {},
          "execution_count": 18
        }
      ],
      "source": [
        "# appending another DataFrame to the old one\n",
        "df2 = pd.DataFrame({'Name': ['Chris', 'Peter'],\n",
        "                   'Age': [18, np.nan],\n",
        "                   'Salary': [np.nan, 9],\n",
        "                   'Group': ['NV', 'FL']})\n",
        "\n",
        "df_new = df.append(df2, ignore_index=True)\n",
        "df_new"
      ]
    },
    {
      "cell_type": "code",
      "execution_count": 19,
      "metadata": {
        "colab": {
          "base_uri": "https://localhost:8080/"
        },
        "id": "kqbiL2wJ8CD0",
        "outputId": "ae85d420-1d37-43b5-98a3-92917bded1b8"
      },
      "outputs": [
        {
          "output_type": "stream",
          "name": "stdout",
          "text": [
            "      Name   Age  Salary Group\n",
            "0   Elaine  44.0  7000.0    MA\n",
            "1     Josh  17.0  5800.0    NW\n",
            "2      Lin  64.0  7900.0    NM\n",
            "3     Naho  33.0  5600.0    WA\n",
            "4    Steve  45.0  6700.0    PA\n",
            "5  Charles  25.0  5900.0    TX\n",
            "7    Peter   NaN     9.0    FL\n"
          ]
        }
      ],
      "source": [
        "# filter out NaN values\n",
        "print(df_new.dropna(how='any', subset=['Salary']))\n"
      ]
    },
    {
      "cell_type": "code",
      "execution_count": 20,
      "metadata": {
        "colab": {
          "base_uri": "https://localhost:8080/"
        },
        "id": "gUk05lbk8CD0",
        "outputId": "5844843e-861d-4d2a-f262-43e32f141fca"
      },
      "outputs": [
        {
          "output_type": "stream",
          "name": "stdout",
          "text": [
            "      Name   Age Salary Group\n",
            "0   Elaine    44   7000    MA\n",
            "1     Josh    17   5800    NW\n",
            "2      Lin    64   7900    NM\n",
            "3     Naho    33   5600    WA\n",
            "4    Steve    45   6700    PA\n",
            "5  Charles    25   5900    TX\n",
            "6    Chris    18   None    NV\n",
            "7    Peter  None      9    FL\n"
          ]
        }
      ],
      "source": [
        "# replace NaN values with specified value\n",
        "print(df_new.fillna(value='None'))"
      ]
    },
    {
      "cell_type": "code",
      "execution_count": 21,
      "metadata": {
        "colab": {
          "base_uri": "https://localhost:8080/"
        },
        "id": "_aKyG90K8CD1",
        "outputId": "7d619ebf-81f7-431a-9bdb-0b6d4ed53b40"
      },
      "outputs": [
        {
          "output_type": "stream",
          "name": "stdout",
          "text": [
            "[['Elaine' 44.0 7000.0 'MA']\n",
            " ['Josh' 17.0 5800.0 'NW']\n",
            " ['Lin' 64.0 7900.0 'NM']\n",
            " ['Naho' 33.0 5600.0 'WA']\n",
            " ['Steve' 45.0 6700.0 'PA']\n",
            " ['Charles' 25.0 5900.0 'TX']\n",
            " ['Chris' 18.0 nan 'NV']\n",
            " ['Peter' nan 9.0 'FL']]\n"
          ]
        }
      ],
      "source": [
        "\n",
        "# export as numpy array\n",
        "print(df_new.values)"
      ]
    },
    {
      "cell_type": "code",
      "execution_count": 22,
      "metadata": {
        "colab": {
          "base_uri": "https://localhost:8080/"
        },
        "id": "7b86f2ib8CD1",
        "outputId": "6ce68d42-0a05-42c8-b437-9b308da1c4cc"
      },
      "outputs": [
        {
          "output_type": "stream",
          "name": "stdout",
          "text": [
            "      Name  Age  Salary Group\n",
            "0   Elaine   44    7000    MA\n",
            "1     Josh   17    5800    NW\n",
            "2      Lin   64    7900    NM\n",
            "3     Naho   33    5600    WA\n",
            "4    Steve   45    6700    PA\n",
            "5  Charles   25    5900    TX\n",
            "      Name  Location Team\n",
            "0     Josh    Boston    A\n",
            "1      Lin        DC    A\n",
            "2    Steve   Seattle    C\n",
            "3  Charles  San Jose    B\n",
            "4    Chris  New York    D\n",
            "5      Pan    Denver    C\n"
          ]
        }
      ],
      "source": [
        "df_left = pd.DataFrame({'Name': ['Elaine', 'Josh', 'Lin', 'Naho', 'Steve', 'Charles'],\n",
        "                   'Age': [44, 17, 64, 33, 45, 25],\n",
        "                   'Salary': [7000, 5800, 7900, 5600, 6700, 5900],\n",
        "                   'Group': ['MA', 'NW', 'NM', 'WA', 'PA', 'TX']})\n",
        "df_right = pd.DataFrame({'Name': ['Josh', 'Lin', 'Steve', 'Charles', 'Chris', 'Pan'],\n",
        "                   'Location': [\"Boston\", \"DC\", \"Seattle\", \"San Jose\", \"New York\", \"Denver\"],\n",
        "                   'Team': [\"A\", \"A\", \"C\", \"B\", \"D\", \"C\"]})\n",
        "\n",
        "print(df_left)\n",
        "print(df_right)"
      ]
    },
    {
      "cell_type": "code",
      "execution_count": 23,
      "metadata": {
        "colab": {
          "base_uri": "https://localhost:8080/",
          "height": 173
        },
        "id": "vJYbXhtd8CD1",
        "outputId": "80b36949-7941-4b26-daba-1246744b019c"
      },
      "outputs": [
        {
          "output_type": "execute_result",
          "data": {
            "text/html": [
              "<div>\n",
              "<style scoped>\n",
              "    .dataframe tbody tr th:only-of-type {\n",
              "        vertical-align: middle;\n",
              "    }\n",
              "\n",
              "    .dataframe tbody tr th {\n",
              "        vertical-align: top;\n",
              "    }\n",
              "\n",
              "    .dataframe thead th {\n",
              "        text-align: right;\n",
              "    }\n",
              "</style>\n",
              "<table border=\"1\" class=\"dataframe\">\n",
              "  <thead>\n",
              "    <tr style=\"text-align: right;\">\n",
              "      <th></th>\n",
              "      <th>Name</th>\n",
              "      <th>Age</th>\n",
              "      <th>Salary</th>\n",
              "      <th>Group</th>\n",
              "      <th>Location</th>\n",
              "      <th>Team</th>\n",
              "    </tr>\n",
              "  </thead>\n",
              "  <tbody>\n",
              "    <tr>\n",
              "      <th>0</th>\n",
              "      <td>Josh</td>\n",
              "      <td>17</td>\n",
              "      <td>5800</td>\n",
              "      <td>NW</td>\n",
              "      <td>Boston</td>\n",
              "      <td>A</td>\n",
              "    </tr>\n",
              "    <tr>\n",
              "      <th>1</th>\n",
              "      <td>Lin</td>\n",
              "      <td>64</td>\n",
              "      <td>7900</td>\n",
              "      <td>NM</td>\n",
              "      <td>DC</td>\n",
              "      <td>A</td>\n",
              "    </tr>\n",
              "    <tr>\n",
              "      <th>2</th>\n",
              "      <td>Steve</td>\n",
              "      <td>45</td>\n",
              "      <td>6700</td>\n",
              "      <td>PA</td>\n",
              "      <td>Seattle</td>\n",
              "      <td>C</td>\n",
              "    </tr>\n",
              "    <tr>\n",
              "      <th>3</th>\n",
              "      <td>Charles</td>\n",
              "      <td>25</td>\n",
              "      <td>5900</td>\n",
              "      <td>TX</td>\n",
              "      <td>San Jose</td>\n",
              "      <td>B</td>\n",
              "    </tr>\n",
              "  </tbody>\n",
              "</table>\n",
              "</div>"
            ],
            "text/plain": [
              "      Name  Age  Salary Group  Location Team\n",
              "0     Josh   17    5800    NW    Boston    A\n",
              "1      Lin   64    7900    NM        DC    A\n",
              "2    Steve   45    6700    PA   Seattle    C\n",
              "3  Charles   25    5900    TX  San Jose    B"
            ]
          },
          "metadata": {},
          "execution_count": 23
        }
      ],
      "source": [
        "# Merging two tables using intersection of keys from both frames\n",
        "pd.merge(df_left, df_right,how=\"inner\")\n"
      ]
    },
    {
      "cell_type": "code",
      "execution_count": 24,
      "metadata": {
        "colab": {
          "base_uri": "https://localhost:8080/",
          "height": 297
        },
        "id": "pUI6UxYJ8CD2",
        "outputId": "39a4775a-63f4-4074-d0ca-0d4e5eea07fe"
      },
      "outputs": [
        {
          "output_type": "execute_result",
          "data": {
            "text/html": [
              "<div>\n",
              "<style scoped>\n",
              "    .dataframe tbody tr th:only-of-type {\n",
              "        vertical-align: middle;\n",
              "    }\n",
              "\n",
              "    .dataframe tbody tr th {\n",
              "        vertical-align: top;\n",
              "    }\n",
              "\n",
              "    .dataframe thead th {\n",
              "        text-align: right;\n",
              "    }\n",
              "</style>\n",
              "<table border=\"1\" class=\"dataframe\">\n",
              "  <thead>\n",
              "    <tr style=\"text-align: right;\">\n",
              "      <th></th>\n",
              "      <th>Name</th>\n",
              "      <th>Age</th>\n",
              "      <th>Salary</th>\n",
              "      <th>Group</th>\n",
              "      <th>Location</th>\n",
              "      <th>Team</th>\n",
              "    </tr>\n",
              "  </thead>\n",
              "  <tbody>\n",
              "    <tr>\n",
              "      <th>0</th>\n",
              "      <td>Elaine</td>\n",
              "      <td>44.0</td>\n",
              "      <td>7000.0</td>\n",
              "      <td>MA</td>\n",
              "      <td>NaN</td>\n",
              "      <td>NaN</td>\n",
              "    </tr>\n",
              "    <tr>\n",
              "      <th>1</th>\n",
              "      <td>Josh</td>\n",
              "      <td>17.0</td>\n",
              "      <td>5800.0</td>\n",
              "      <td>NW</td>\n",
              "      <td>Boston</td>\n",
              "      <td>A</td>\n",
              "    </tr>\n",
              "    <tr>\n",
              "      <th>2</th>\n",
              "      <td>Lin</td>\n",
              "      <td>64.0</td>\n",
              "      <td>7900.0</td>\n",
              "      <td>NM</td>\n",
              "      <td>DC</td>\n",
              "      <td>A</td>\n",
              "    </tr>\n",
              "    <tr>\n",
              "      <th>3</th>\n",
              "      <td>Naho</td>\n",
              "      <td>33.0</td>\n",
              "      <td>5600.0</td>\n",
              "      <td>WA</td>\n",
              "      <td>NaN</td>\n",
              "      <td>NaN</td>\n",
              "    </tr>\n",
              "    <tr>\n",
              "      <th>4</th>\n",
              "      <td>Steve</td>\n",
              "      <td>45.0</td>\n",
              "      <td>6700.0</td>\n",
              "      <td>PA</td>\n",
              "      <td>Seattle</td>\n",
              "      <td>C</td>\n",
              "    </tr>\n",
              "    <tr>\n",
              "      <th>5</th>\n",
              "      <td>Charles</td>\n",
              "      <td>25.0</td>\n",
              "      <td>5900.0</td>\n",
              "      <td>TX</td>\n",
              "      <td>San Jose</td>\n",
              "      <td>B</td>\n",
              "    </tr>\n",
              "    <tr>\n",
              "      <th>6</th>\n",
              "      <td>Chris</td>\n",
              "      <td>NaN</td>\n",
              "      <td>NaN</td>\n",
              "      <td>NaN</td>\n",
              "      <td>New York</td>\n",
              "      <td>D</td>\n",
              "    </tr>\n",
              "    <tr>\n",
              "      <th>7</th>\n",
              "      <td>Pan</td>\n",
              "      <td>NaN</td>\n",
              "      <td>NaN</td>\n",
              "      <td>NaN</td>\n",
              "      <td>Denver</td>\n",
              "      <td>C</td>\n",
              "    </tr>\n",
              "  </tbody>\n",
              "</table>\n",
              "</div>"
            ],
            "text/plain": [
              "      Name   Age  Salary Group  Location Team\n",
              "0   Elaine  44.0  7000.0    MA       NaN  NaN\n",
              "1     Josh  17.0  5800.0    NW    Boston    A\n",
              "2      Lin  64.0  7900.0    NM        DC    A\n",
              "3     Naho  33.0  5600.0    WA       NaN  NaN\n",
              "4    Steve  45.0  6700.0    PA   Seattle    C\n",
              "5  Charles  25.0  5900.0    TX  San Jose    B\n",
              "6    Chris   NaN     NaN   NaN  New York    D\n",
              "7      Pan   NaN     NaN   NaN    Denver    C"
            ]
          },
          "metadata": {},
          "execution_count": 24
        }
      ],
      "source": [
        "# Merging two tables using union of keys from both frames\n",
        "pd.merge(df_left, df_right,how=\"outer\")\n"
      ]
    },
    {
      "cell_type": "code",
      "execution_count": 25,
      "metadata": {
        "colab": {
          "base_uri": "https://localhost:8080/",
          "height": 235
        },
        "id": "pcbZbo3t8CD2",
        "outputId": "36752751-51b0-46ac-e010-7b447237f45b"
      },
      "outputs": [
        {
          "output_type": "execute_result",
          "data": {
            "text/html": [
              "<div>\n",
              "<style scoped>\n",
              "    .dataframe tbody tr th:only-of-type {\n",
              "        vertical-align: middle;\n",
              "    }\n",
              "\n",
              "    .dataframe tbody tr th {\n",
              "        vertical-align: top;\n",
              "    }\n",
              "\n",
              "    .dataframe thead th {\n",
              "        text-align: right;\n",
              "    }\n",
              "</style>\n",
              "<table border=\"1\" class=\"dataframe\">\n",
              "  <thead>\n",
              "    <tr style=\"text-align: right;\">\n",
              "      <th></th>\n",
              "      <th>Name</th>\n",
              "      <th>Age</th>\n",
              "      <th>Salary</th>\n",
              "      <th>Group</th>\n",
              "      <th>Location</th>\n",
              "      <th>Team</th>\n",
              "    </tr>\n",
              "  </thead>\n",
              "  <tbody>\n",
              "    <tr>\n",
              "      <th>0</th>\n",
              "      <td>Elaine</td>\n",
              "      <td>44</td>\n",
              "      <td>7000</td>\n",
              "      <td>MA</td>\n",
              "      <td>NaN</td>\n",
              "      <td>NaN</td>\n",
              "    </tr>\n",
              "    <tr>\n",
              "      <th>1</th>\n",
              "      <td>Josh</td>\n",
              "      <td>17</td>\n",
              "      <td>5800</td>\n",
              "      <td>NW</td>\n",
              "      <td>Boston</td>\n",
              "      <td>A</td>\n",
              "    </tr>\n",
              "    <tr>\n",
              "      <th>2</th>\n",
              "      <td>Lin</td>\n",
              "      <td>64</td>\n",
              "      <td>7900</td>\n",
              "      <td>NM</td>\n",
              "      <td>DC</td>\n",
              "      <td>A</td>\n",
              "    </tr>\n",
              "    <tr>\n",
              "      <th>3</th>\n",
              "      <td>Naho</td>\n",
              "      <td>33</td>\n",
              "      <td>5600</td>\n",
              "      <td>WA</td>\n",
              "      <td>NaN</td>\n",
              "      <td>NaN</td>\n",
              "    </tr>\n",
              "    <tr>\n",
              "      <th>4</th>\n",
              "      <td>Steve</td>\n",
              "      <td>45</td>\n",
              "      <td>6700</td>\n",
              "      <td>PA</td>\n",
              "      <td>Seattle</td>\n",
              "      <td>C</td>\n",
              "    </tr>\n",
              "    <tr>\n",
              "      <th>5</th>\n",
              "      <td>Charles</td>\n",
              "      <td>25</td>\n",
              "      <td>5900</td>\n",
              "      <td>TX</td>\n",
              "      <td>San Jose</td>\n",
              "      <td>B</td>\n",
              "    </tr>\n",
              "  </tbody>\n",
              "</table>\n",
              "</div>"
            ],
            "text/plain": [
              "      Name  Age  Salary Group  Location Team\n",
              "0   Elaine   44    7000    MA       NaN  NaN\n",
              "1     Josh   17    5800    NW    Boston    A\n",
              "2      Lin   64    7900    NM        DC    A\n",
              "3     Naho   33    5600    WA       NaN  NaN\n",
              "4    Steve   45    6700    PA   Seattle    C\n",
              "5  Charles   25    5900    TX  San Jose    B"
            ]
          },
          "metadata": {},
          "execution_count": 25
        }
      ],
      "source": [
        "# Merging two tables using keys from left frame only\n",
        "pd.merge(df_left, df_right,how=\"left\")\n"
      ]
    },
    {
      "cell_type": "code",
      "execution_count": 26,
      "metadata": {
        "colab": {
          "base_uri": "https://localhost:8080/",
          "height": 235
        },
        "id": "072GJqiQ8CD2",
        "outputId": "ab962f70-e6d1-4795-c4c7-89572dd9c20c"
      },
      "outputs": [
        {
          "output_type": "execute_result",
          "data": {
            "text/html": [
              "<div>\n",
              "<style scoped>\n",
              "    .dataframe tbody tr th:only-of-type {\n",
              "        vertical-align: middle;\n",
              "    }\n",
              "\n",
              "    .dataframe tbody tr th {\n",
              "        vertical-align: top;\n",
              "    }\n",
              "\n",
              "    .dataframe thead th {\n",
              "        text-align: right;\n",
              "    }\n",
              "</style>\n",
              "<table border=\"1\" class=\"dataframe\">\n",
              "  <thead>\n",
              "    <tr style=\"text-align: right;\">\n",
              "      <th></th>\n",
              "      <th>Name</th>\n",
              "      <th>Age</th>\n",
              "      <th>Salary</th>\n",
              "      <th>Group</th>\n",
              "      <th>Location</th>\n",
              "      <th>Team</th>\n",
              "    </tr>\n",
              "  </thead>\n",
              "  <tbody>\n",
              "    <tr>\n",
              "      <th>0</th>\n",
              "      <td>Josh</td>\n",
              "      <td>17.0</td>\n",
              "      <td>5800.0</td>\n",
              "      <td>NW</td>\n",
              "      <td>Boston</td>\n",
              "      <td>A</td>\n",
              "    </tr>\n",
              "    <tr>\n",
              "      <th>1</th>\n",
              "      <td>Lin</td>\n",
              "      <td>64.0</td>\n",
              "      <td>7900.0</td>\n",
              "      <td>NM</td>\n",
              "      <td>DC</td>\n",
              "      <td>A</td>\n",
              "    </tr>\n",
              "    <tr>\n",
              "      <th>2</th>\n",
              "      <td>Steve</td>\n",
              "      <td>45.0</td>\n",
              "      <td>6700.0</td>\n",
              "      <td>PA</td>\n",
              "      <td>Seattle</td>\n",
              "      <td>C</td>\n",
              "    </tr>\n",
              "    <tr>\n",
              "      <th>3</th>\n",
              "      <td>Charles</td>\n",
              "      <td>25.0</td>\n",
              "      <td>5900.0</td>\n",
              "      <td>TX</td>\n",
              "      <td>San Jose</td>\n",
              "      <td>B</td>\n",
              "    </tr>\n",
              "    <tr>\n",
              "      <th>4</th>\n",
              "      <td>Chris</td>\n",
              "      <td>NaN</td>\n",
              "      <td>NaN</td>\n",
              "      <td>NaN</td>\n",
              "      <td>New York</td>\n",
              "      <td>D</td>\n",
              "    </tr>\n",
              "    <tr>\n",
              "      <th>5</th>\n",
              "      <td>Pan</td>\n",
              "      <td>NaN</td>\n",
              "      <td>NaN</td>\n",
              "      <td>NaN</td>\n",
              "      <td>Denver</td>\n",
              "      <td>C</td>\n",
              "    </tr>\n",
              "  </tbody>\n",
              "</table>\n",
              "</div>"
            ],
            "text/plain": [
              "      Name   Age  Salary Group  Location Team\n",
              "0     Josh  17.0  5800.0    NW    Boston    A\n",
              "1      Lin  64.0  7900.0    NM        DC    A\n",
              "2    Steve  45.0  6700.0    PA   Seattle    C\n",
              "3  Charles  25.0  5900.0    TX  San Jose    B\n",
              "4    Chris   NaN     NaN   NaN  New York    D\n",
              "5      Pan   NaN     NaN   NaN    Denver    C"
            ]
          },
          "metadata": {},
          "execution_count": 26
        }
      ],
      "source": [
        "# Merging two tables using keys from right frame only\n",
        "pd.merge(df_left, df_right,how=\"right\")\n"
      ]
    },
    {
      "cell_type": "code",
      "execution_count": 27,
      "metadata": {
        "colab": {
          "base_uri": "https://localhost:8080/",
          "height": 204
        },
        "id": "v577JzS98CD3",
        "outputId": "c7dfdf78-7506-483c-bd3d-a7ac19828dfd"
      },
      "outputs": [
        {
          "output_type": "execute_result",
          "data": {
            "text/html": [
              "<div>\n",
              "<style scoped>\n",
              "    .dataframe tbody tr th:only-of-type {\n",
              "        vertical-align: middle;\n",
              "    }\n",
              "\n",
              "    .dataframe tbody tr th {\n",
              "        vertical-align: top;\n",
              "    }\n",
              "\n",
              "    .dataframe thead th {\n",
              "        text-align: right;\n",
              "    }\n",
              "</style>\n",
              "<table border=\"1\" class=\"dataframe\">\n",
              "  <thead>\n",
              "    <tr style=\"text-align: right;\">\n",
              "      <th></th>\n",
              "      <th>Age</th>\n",
              "      <th>Salary</th>\n",
              "    </tr>\n",
              "    <tr>\n",
              "      <th>Team</th>\n",
              "      <th></th>\n",
              "      <th></th>\n",
              "    </tr>\n",
              "  </thead>\n",
              "  <tbody>\n",
              "    <tr>\n",
              "      <th>A</th>\n",
              "      <td>40.5</td>\n",
              "      <td>6850.0</td>\n",
              "    </tr>\n",
              "    <tr>\n",
              "      <th>B</th>\n",
              "      <td>25.0</td>\n",
              "      <td>5900.0</td>\n",
              "    </tr>\n",
              "    <tr>\n",
              "      <th>C</th>\n",
              "      <td>45.0</td>\n",
              "      <td>6700.0</td>\n",
              "    </tr>\n",
              "    <tr>\n",
              "      <th>D</th>\n",
              "      <td>NaN</td>\n",
              "      <td>NaN</td>\n",
              "    </tr>\n",
              "  </tbody>\n",
              "</table>\n",
              "</div>"
            ],
            "text/plain": [
              "       Age  Salary\n",
              "Team              \n",
              "A     40.5  6850.0\n",
              "B     25.0  5900.0\n",
              "C     45.0  6700.0\n",
              "D      NaN     NaN"
            ]
          },
          "metadata": {},
          "execution_count": 27
        }
      ],
      "source": [
        "# Group frame with specified column and get the mean values for each \"cluster\"\n",
        "(pd.merge(df_left, df_right,how=\"outer\").groupby([\"Team\"]).mean())\n"
      ]
    },
    {
      "cell_type": "code",
      "execution_count": 28,
      "metadata": {
        "colab": {
          "base_uri": "https://localhost:8080/",
          "height": 307
        },
        "id": "ocwBvLBZ8CD3",
        "outputId": "97f3e823-3574-4253-dcd4-4fee344dff04"
      },
      "outputs": [
        {
          "output_type": "display_data",
          "data": {
            "image/png": "[encoded data removed]",
            "text/plain": [
              "<Figure size 432x288 with 1 Axes>"
            ]
          },
          "metadata": {
            "needs_background": "light"
          }
        }
      ],
      "source": [
        "# Visualize \n",
        "df_left.plot(x=\"Name\", y=[\"Age\",\"Salary\"], kind='bar');"
      ]
    },
    {
      "cell_type": "markdown",
      "metadata": {
        "id": "oMEugeE18CD4"
      },
      "source": [
        "<font size=\"5\"> Challenge </font>  \n"
      ]
    },
    {
      "cell_type": "markdown",
      "metadata": {
        "id": "f90GiIcj8CD4"
      },
      "source": [
        "Implement a function process() that given the path to a CSV file as input, select those entries with a valid license (not NaN), room type of Private room, price less than or equal to 80, minimum nights less than or equal to 2, number of reviewers more than or equal to 500, or those with a valid license (not NaN), a room type of Entire home/apt, price less than or equal to 100, minimum nights less than or equal to 1, number of reviewers more than or equal to 100, and finally present the result sorted according to latitude and then longitude in an ascending order and with only columns of id, latitude, longitude, room_type, price and availability_365."
      ]
    },
    {
      "cell_type": "code",
      "source": [
        "from google.colab import drive\n",
        "drive.mount('/content/drive')"
      ],
      "metadata": {
        "colab": {
          "base_uri": "https://localhost:8080/"
        },
        "id": "8O_RBF8U9M8W",
        "outputId": "4340e6b6-177a-4c8c-aa31-70ebae6f0809"
      },
      "execution_count": 30,
      "outputs": [
        {
          "output_type": "stream",
          "name": "stdout",
          "text": [
            "Drive already mounted at /content/drive; to attempt to forcibly remount, call drive.mount(\"/content/drive\", force_remount=True).\n"
          ]
        }
      ]
    },
    {
      "cell_type": "code",
      "execution_count": 59,
      "metadata": {
        "colab": {
          "base_uri": "https://localhost:8080/"
        },
        "id": "SJDjH8TX8CD5",
        "outputId": "70725933-566c-4ecf-e055-1398335bd269"
      },
      "outputs": [
        {
          "output_type": "stream",
          "name": "stdout",
          "text": [
            "             id   latitude  longitude        room_type  price  availability_365\n",
            "11626  28170875  52.383880   4.787870  Entire home/apt     99               312\n",
            "11627  28171967  52.383880   4.787870  Entire home/apt    100               292\n",
            "442     1008223  52.365610   4.840380     Private room     51               324\n",
            "7448   17774718  52.353180   4.846890  Entire home/apt     89               312\n",
            "3037    7571471  52.358730   4.855080     Private room     65               282\n",
            "9921   22563427  52.369180   4.880470  Entire home/apt     94                44\n",
            "207      608432  52.381996   4.888583     Private room     56                42\n",
            "12504  31731136  52.378250   4.892390  Entire home/apt     78                57\n",
            "2888    7276869  52.354920   4.898650     Private room     69                33\n",
            "2840    7190115  52.356980   4.900150     Private room     71                21\n",
            "1394    3508800  52.333100   4.903000     Private room     49                67\n",
            "546     1247334  52.355960   4.903390     Private room     78                 0\n",
            "4192   10432232  52.386530   4.915340     Private room     75               132\n",
            "1754    4449764  52.373130   4.951460     Private room     69                 0\n"
          ]
        }
      ],
      "source": [
        "\n",
        "def process(path):\n",
        "  #  price less than or equal to 80, \n",
        "  #  minimum nights less than or equal to 2, \n",
        "  #  number of reviewers more than or equal to 500, \n",
        "   \n",
        "  #  or those with a valid license (not NaN), \n",
        "  #  a room type of Entire home/apt, \n",
        "  #  price less than or equal to 100, \n",
        "  #  minimum nights less than or equal to 1, \n",
        "  #  number of reviewers more than or equal to 100, \n",
        "\n",
        "\n",
        "    dataframe = pd.read_csv(path)\n",
        "    # print(dataframe.columns)\n",
        "    dataframe = dataframe.dropna(how='any', subset=['license'])\n",
        "    # print(dataframe.shape)\n",
        "    dataframe = dataframe[dataframe[\"room_type\"].str.contains(\"Private room\")==True]\n",
        "    # print(dataframe.shape)\n",
        "    dataframe = dataframe[(dataframe['price']<=80) & (dataframe['minimum_nights']<=2) & (dataframe[\"number_of_reviews\"]>= 500)]\n",
        "\n",
        "    dataframe2 = pd.read_csv(path)\n",
        "    dataframe2 = dataframe2.dropna(how='any', subset=['license'])\n",
        "    dataframe2 = dataframe2[dataframe2[\"room_type\"].str.contains(\"Entire home/apt\")==True]\n",
        "    dataframe2 = dataframe2[(dataframe2['price']<=100) & (dataframe2['minimum_nights']<=1) & (dataframe2[\"number_of_reviews\"]>= 100)]\n",
        "    \n",
        "    df_new = dataframe.append(dataframe2)\n",
        "    \n",
        "    # finally present the result sorted according to latitude and then longitude in an ascending order \n",
        "    # and with only columns of \n",
        "    #   id, latitude, longitude, room_type, price and availability_365.\n",
        "    # sort according to specific attribute\n",
        "    df_new = df_new.sort_values(by='latitude', ascending=True)\n",
        "    df_new = df_new.sort_values(by='longitude', ascending=True)\n",
        "\n",
        "    return df_new[[\"id\", \"latitude\", \"longitude\", \"room_type\", \"price\", \"availability_365\"]]\n",
        "\n",
        "\n",
        "df = process('/content/drive/MyDrive/Colab Notebooks/listings.csv')\n",
        "print(df)"
      ]
    },
    {
      "cell_type": "code",
      "execution_count": null,
      "metadata": {
        "id": "-wufUsXu8CD5"
      },
      "outputs": [],
      "source": [
        ""
      ]
    }
  ],
  "metadata": {
    "kernelspec": {
      "display_name": "Python 3",
      "language": "python",
      "name": "python3"
    },
    "language_info": {
      "codemirror_mode": {
        "name": "ipython",
        "version": 3
      },
      "file_extension": ".py",
      "mimetype": "text/x-python",
      "name": "python",
      "nbconvert_exporter": "python",
      "pygments_lexer": "ipython3",
      "version": "3.6.5"
    },
    "colab": {
      "name": "pandas_exercise.ipynb",
      "provenance": []
    }
  },
  "nbformat": 4,
  "nbformat_minor": 0
}