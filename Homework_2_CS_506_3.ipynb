{
  "nbformat": 4,
  "nbformat_minor": 0,
  "metadata": {
    "kernelspec": {
      "display_name": "Python 3",
      "language": "python",
      "name": "python3"
    },
    "language_info": {
      "codemirror_mode": {
        "name": "ipython",
        "version": 3
      },
      "file_extension": ".py",
      "mimetype": "text/x-python",
      "name": "python",
      "nbconvert_exporter": "python",
      "pygments_lexer": "ipython3",
      "version": "3.7.4"
    },
    "colab": {
      "name": "Homework 2 - CS 506-3.ipynb",
      "provenance": [],
      "collapsed_sections": [],
      "include_colab_link": true
    }
  },
  "cells": [
    {
      "cell_type": "markdown",
      "metadata": {
        "id": "view-in-github",
        "colab_type": "text"
      },
      "source": [
        "<a href=\"https://colab.research.google.com/github/egreven/CS506-Fall2021/blob/master/Homework_2_CS_506_3.ipynb\" target=\"_parent\"><img src=\"https://colab.research.google.com/assets/colab-badge.svg\" alt=\"Open In Colab\"/></a>"
      ]
    },
    {
      "cell_type": "code",
      "metadata": {
        "id": "uZc1QXYcpzVW",
        "colab": {
          "base_uri": "https://localhost:8080/"
        },
        "outputId": "28b23d41-f45c-4c72-a0b7-4021732e3d98"
      },
      "source": [
        "# Problem 1.a\n",
        "import numpy as np\n",
        "import matplotlib.pyplot as plt\n",
        "import statsmodels.api as sm\n",
        "from sklearn import preprocessing\n",
        "min_max_scaler = preprocessing.MinMaxScaler()\n",
        "import pandas as pd\n",
        "from sklearn.model_selection import train_test_split\n",
        "from sklearn import metrics\n",
        "from sklearn.metrics import classification_report\n",
        "from sklearn.neighbors import KNeighborsClassifier \n",
        "from sklearn.linear_model import LinearRegression\n",
        "from sklearn.metrics import accuracy_score"
      ],
      "execution_count": 3,
      "outputs": [
        {
          "output_type": "stream",
          "name": "stderr",
          "text": [
            "/usr/local/lib/python3.7/dist-packages/statsmodels/tools/_testing.py:19: FutureWarning: pandas.util.testing is deprecated. Use the functions in the public API at pandas.testing instead.\n",
            "  import pandas.util.testing as tm\n"
          ]
        }
      ]
    },
    {
      "cell_type": "code",
      "metadata": {
        "id": "xml_gw0epzVY"
      },
      "source": [
        "x_coor_class1 = [np.random.uniform(-4, 4) for x in range(50)]\n",
        "y_coor_class1 = [np.random.uniform(-4, x-1) for x in x_coor_class1]\n",
        "\n",
        "\n",
        "\n",
        "\n",
        "x_coor_class2 = [np.random.uniform(-4, 4) for x in range(50)]\n",
        "y_coor_class2 = [np.random.uniform(x+1, 4) for x in x_coor_class2]\n",
        "\n",
        "x_outlier_coor_class1 = [np.random.uniform(6, 9) for x in range(10)]\n",
        "y_outlier_coor_class1 = [np.random.uniform(-5, -8) for y in range(10)]\n"
      ],
      "execution_count": 4,
      "outputs": []
    },
    {
      "cell_type": "code",
      "metadata": {
        "id": "va1JvH1GpzVZ",
        "colab": {
          "base_uri": "https://localhost:8080/"
        },
        "outputId": "f48e99d0-5a0a-411a-fef5-38aea2b0b2c9"
      },
      "source": [
        "# Linear Regression Least Squares\n",
        "\n",
        "# WITHOUT OUTLIERS\n",
        "X_without_outliers_LinR = np.array(x_coor_class1 + x_coor_class2).reshape(-1, 1)\n",
        "Y_without_outliers_LinR = np.array(y_coor_class1+y_coor_class2).reshape(-1,1)\n",
        "\n",
        "\n",
        "w = np.linalg.lstsq(X_without_outliers_LinR, Y_without_outliers_LinR, rcond=None)\n",
        "\n",
        "w = w[0][0][0]\n",
        "\n",
        "\n",
        "# WITH OUTLIERS\n",
        "X_with_outliers_LinR = np.array(x_coor_class1 + x_coor_class2 + x_outlier_coor_class1).reshape(-1, 1)\n",
        "Y_with_outliers_LinR = np.array(y_coor_class1+y_coor_class2 + y_outlier_coor_class1).reshape(-1,1)\n",
        "\n",
        "\n",
        "w_with_outliers = np.linalg.lstsq(X_with_outliers_LinR, Y_with_outliers_LinR, rcond=None)\n",
        "\n",
        "w_with_outliers = w_with_outliers[0][0][0]\n",
        "\n",
        "print(w, w_with_outliers)\n",
        "# minmax_classX_LinR = min_max_scaler.fit_transform(data_without_outliers_classX_LinR)\n",
        "# minmax_classY_LinR = min_max_scaler.fit_transform(data_without_outliers_classY_LinR)\n",
        "\n",
        "# modelLinR.fit(minmax_classX_LinR, minmax_classY_LinR )\n",
        "# modelLinR.predict(minmax_classX_LinR)\n",
        "\n",
        "# modelLinR.fit(data_without_outliers_classX_LinR, data_without_outliers_classY_LinR )\n",
        "# modelLinR.predict(data_without_outliers_classX_LinR)\n"
      ],
      "execution_count": 5,
      "outputs": [
        {
          "output_type": "stream",
          "name": "stdout",
          "text": [
            "0.7104389993952329 -0.12507095577442856\n"
          ]
        }
      ]
    },
    {
      "cell_type": "code",
      "metadata": {
        "scrolled": true,
        "id": "HKLMhpiApzVa",
        "colab": {
          "base_uri": "https://localhost:8080/"
        },
        "outputId": "2b565501-0662-49c5-8fa7-dd54a875ed7f"
      },
      "source": [
        "# Logistic Regression\n",
        "\n",
        "# WITHOUT OUTLIERS i.e. no outliers -> n_o\n",
        "data_without_outliers_classX = np.array(list(zip(x_coor_class1, x_coor_class2)))\n",
        "data_without_outliers_classY = np.array(list(zip(y_coor_class1, y_coor_class2)))\n",
        "\n",
        "minmax_classX_n_o = min_max_scaler.fit_transform(data_without_outliers_classX).reshape(-1,1)\n",
        "minmax_classY_n_o = min_max_scaler.fit_transform(data_without_outliers_classY).reshape(-1,1)\n",
        "\n",
        "logit_n_o = sm.Logit(minmax_classX_n_o, minmax_classY_n_o)\n",
        "result_n_o = logit_n_o.fit()\n",
        "result_n_o = result_n_o.predict()\n",
        "\n",
        "\n",
        "# WITH OUTLIERS i.e. yes outliers -> y_o\n",
        "data_with_outliers_classX = np.array(x_coor_class1 + x_coor_class2 + x_outlier_coor_class1).reshape(-1,1)\n",
        "data_with_outliers_classY = np.array(y_coor_class1 + y_coor_class2 + y_outlier_coor_class1).reshape(-1,1)\n",
        "\n",
        "minmax_classX_y_o = min_max_scaler.fit_transform(data_with_outliers_classX).reshape(-1,1)\n",
        "minmax_classY_y_o = min_max_scaler.fit_transform(data_with_outliers_classY).reshape(-1,1)\n",
        "\n",
        "logit_y_o = sm.Logit(minmax_classX_y_o, minmax_classY_y_o)\n",
        "result_y_o = logit_y_o.fit()\n",
        "result_y_o = result_y_o.predict()\n"
      ],
      "execution_count": 6,
      "outputs": [
        {
          "output_type": "stream",
          "name": "stdout",
          "text": [
            "Optimization terminated successfully.\n",
            "         Current function value: 0.642773\n",
            "         Iterations 4\n",
            "Optimization terminated successfully.\n",
            "         Current function value: 0.640752\n",
            "         Iterations 4\n"
          ]
        }
      ]
    },
    {
      "cell_type": "code",
      "metadata": {
        "id": "EdRYzrD7pzVb",
        "colab": {
          "base_uri": "https://localhost:8080/",
          "height": 269
        },
        "outputId": "d75a6e68-bd34-4c6d-8730-f97c4d5842b9"
      },
      "source": [
        "\n",
        "#plt.figure(figsize=(10,10))\n",
        "plt.scatter(x_coor_class1, y_coor_class1, facecolors='none', edgecolors='b')\n",
        "plt.scatter(x_coor_class2, y_coor_class2, c=\"r\", marker=\"+\")\n",
        "\n",
        "plt.plot(np.array(x_coor_class1 + x_coor_class2), w*np.array(x_coor_class1 + x_coor_class2), c='red')\n",
        "\n",
        "# PLOT DATA WITHOUT OUTLIERS LOGISTIC\n",
        "plt.xlim(-6, 10)\n",
        "plt.ylim(-10,6)\n",
        "\n",
        "plt.show()"
      ],
      "execution_count": 7,
      "outputs": [
        {
          "output_type": "display_data",
          "data": {
            "image/png": "[encoded data removed]",
            "text/plain": [
              "<Figure size 432x288 with 1 Axes>"
            ]
          },
          "metadata": {
            "needs_background": "light"
          }
        }
      ]
    },
    {
      "cell_type": "code",
      "metadata": {
        "id": "Z49oNVRQpzVc",
        "colab": {
          "base_uri": "https://localhost:8080/",
          "height": 269
        },
        "outputId": "98eff0dc-0f8e-4ddf-e403-e11ad3c71650"
      },
      "source": [
        "plt.scatter(x_coor_class1, y_coor_class1, facecolors='none', edgecolors='b')\n",
        "plt.scatter(x_coor_class2, y_coor_class2, c=\"r\", marker=\"+\")\n",
        "plt.scatter(x_outlier_coor_class1, y_outlier_coor_class1, facecolors='none', edgecolors='b')\n",
        "\n",
        "plt.plot(np.array(x_coor_class1 + x_coor_class2 + x_outlier_coor_class1), w*np.array(x_coor_class1 + x_coor_class2 + x_outlier_coor_class1), c='red')\n",
        "\n",
        "\n",
        "\n",
        "# PLOT DATA WITH OUTLIERS LOGISTIC\n",
        "# plt.plot(np.array(x_coor_class1 + x_coor_class2 + x_outlier_coor_class1), result_y_o )\n",
        "\n",
        "\n",
        "plt.xlim(-6, 10)\n",
        "plt.ylim(-10,6)\n",
        "\n",
        "plt.show()"
      ],
      "execution_count": 8,
      "outputs": [
        {
          "output_type": "display_data",
          "data": {
            "image/png": "[encoded data removed]",
            "text/plain": [
              "<Figure size 432x288 with 1 Axes>"
            ]
          },
          "metadata": {
            "needs_background": "light"
          }
        }
      ]
    },
    {
      "cell_type": "markdown",
      "metadata": {
        "id": "a0hewxdmpzVd"
      },
      "source": [
        "1.c. Linear Regression is directly impacted because the outliers shift the least squares line significantly because of the large redisual value that they generate. \n",
        "\n",
        "Logistic regression is not sensitive to outliers because the outliers are far away from the decision boundary they have less affect on the line and in this case they are closer to the bottom of the line (or 0 probability)."
      ]
    },
    {
      "cell_type": "markdown",
      "metadata": {
        "id": "FlKY-rZrpzVe"
      },
      "source": [
        "# Problem 2"
      ]
    },
    {
      "cell_type": "code",
      "metadata": {
        "colab": {
          "base_uri": "https://localhost:8080/"
        },
        "id": "p4kijHn9rH7q",
        "outputId": "69b9b99f-b5c7-4def-a927-c2a8a0f0e8fd"
      },
      "source": [
        "from google.colab import drive\n",
        "drive.mount('/content/drive')"
      ],
      "execution_count": 9,
      "outputs": [
        {
          "output_type": "stream",
          "name": "stdout",
          "text": [
            "Drive already mounted at /content/drive; to attempt to forcibly remount, call drive.mount(\"/content/drive\", force_remount=True).\n"
          ]
        }
      ]
    },
    {
      "cell_type": "code",
      "metadata": {
        "id": "Oi-AVM4qpzVe"
      },
      "source": [
        "data = np.load('/content/drive/MyDrive/Colab Notebooks/mnist_data.npy')\n",
        "labels = np.load('/content/drive/MyDrive/Colab Notebooks/mnist_labels.npy')"
      ],
      "execution_count": 10,
      "outputs": []
    },
    {
      "cell_type": "code",
      "metadata": {
        "id": "o9cwqVLwqQWs"
      },
      "source": [
        ""
      ],
      "execution_count": 10,
      "outputs": []
    },
    {
      "cell_type": "code",
      "metadata": {
        "id": "7tPJ5Yh4pzVf"
      },
      "source": [
        "# Split training set into training and testing set\n",
        "X_train, X_test, y_train, y_test  = train_test_split(\n",
        "        data,\n",
        "        labels,\n",
        "        test_size=0.20\n",
        "    )\n"
      ],
      "execution_count": 11,
      "outputs": []
    },
    {
      "cell_type": "code",
      "metadata": {
        "id": "olmuULBwpzVf",
        "colab": {
          "base_uri": "https://localhost:8080/"
        },
        "outputId": "b4774894-336a-418c-86ee-9055b6189814"
      },
      "source": [
        "minmax_X_train = min_max_scaler.fit_transform(X_train).reshape(-1,1)\n",
        "minmax_y_train = min_max_scaler.fit_transform(y_train.reshape(-1,1)).reshape(-1,1)\n",
        "\n",
        "\n",
        "\n",
        "logit_model = sm.MNLogit(y_train, X_train)\n",
        "\n",
        "result = logit_model.fit()\n",
        "\n",
        "y_pred = result.predict(X_test)"
      ],
      "execution_count": null,
      "outputs": [
        {
          "output_type": "stream",
          "name": "stderr",
          "text": [
            "/usr/local/lib/python3.7/dist-packages/statsmodels/discrete/discrete_model.py:2195: RuntimeWarning: overflow encountered in exp\n",
            "  eXB = np.column_stack((np.ones(len(X)), np.exp(X)))\n",
            "/usr/local/lib/python3.7/dist-packages/statsmodels/discrete/discrete_model.py:2196: RuntimeWarning: invalid value encountered in true_divide\n",
            "  return eXB/eXB.sum(1)[:,None]\n"
          ]
        }
      ]
    },
    {
      "cell_type": "code",
      "metadata": {
        "id": "NBxxzjiUpzVg"
      },
      "source": [
        "# precision = metrics.precision_score(y_test, y_pred)\n",
        "\n",
        "# classification_report( y_pred, y_test)\n",
        "\n",
        "accuracy_score = accuracy_score(y_test, y_pred)"
      ],
      "execution_count": null,
      "outputs": []
    },
    {
      "cell_type": "code",
      "metadata": {
        "id": "kHEKV6bqpzVf"
      },
      "source": [
        "print(len(X_train))"
      ],
      "execution_count": null,
      "outputs": []
    },
    {
      "cell_type": "code",
      "metadata": {
        "id": "oLv9iu7NpzVg"
      },
      "source": [
        "# Problem 2.c.\n",
        "\n",
        "nreps = 5\n",
        "kvals = [1,3,5,7,9,11,13,15,17,19,21,23,25]\n",
        "acc = []\n",
        "np.random.seed(4)\n",
        "for k in kvals:\n",
        "    test_rep = []\n",
        "    train_rep = []\n",
        "    for n in range(nreps):\n",
        "        Data_train, Data_test, labels_train, labels_test = train_test_split(data, \n",
        "                                                                            labels, \n",
        "                                                                            train_size = 0.5,\n",
        "                                                                            test_size = 0.2)\n",
        "        knn = KNeighborsClassifier(n_neighbors = k)    \n",
        "        knn.fit(Data_train, labels_train)\n",
        "        train_rep.append(knn.score(Data_train, labels_train))\n",
        "        test_rep.append(knn.score(Data_test, labels_test))\n",
        "    acc.append([np.mean(np.array(test_rep)), np.mean(np.array(train_rep))])\n",
        "accy = np.array(acc)"
      ],
      "execution_count": null,
      "outputs": []
    },
    {
      "cell_type": "code",
      "metadata": {
        "id": "52rguHRApzVh"
      },
      "source": [
        "print(accy[:,1])\n",
        "print(len(kvals))"
      ],
      "execution_count": null,
      "outputs": []
    },
    {
      "cell_type": "code",
      "metadata": {
        "id": "GNN5u5mvpzVi"
      },
      "source": [
        "plt.plot(kvals, accy[:, 0], '.-', label = 'Accuracy on Test Data')\n",
        "plt.plot(kvals, accy[:, 1], '.-', label = 'Accuracy on Training Data')\n",
        "plt.xlabel(r'$k$')\n",
        "plt.ylabel('Accuracy')\n",
        "plt.title('Train/Test Comparision of $k$-NN')\n",
        "plt.legend(loc = 'best');"
      ],
      "execution_count": null,
      "outputs": []
    },
    {
      "cell_type": "markdown",
      "metadata": {
        "id": "E2eLD_QjpzVj"
      },
      "source": [
        "### 2.d. Explain your results\n"
      ]
    },
    {
      "cell_type": "code",
      "metadata": {
        "id": "aLECJ-3zpzVj"
      },
      "source": [
        "# Problem 2.e. \n",
        "test_values = [5.0/6.0, 2.0/3.0, 0.5, 1.0/3.0, 0.20]\n",
        "train_size = [3000, 6000, 9000, 12000, 14400]\n",
        "\n",
        "nreps2 = 25\n",
        "k = 15\n",
        "# 3000     test size = 5.0/ 6.0\n",
        "\n",
        "# 6000     test size = 2.0 / 3.0\n",
        "\n",
        "# 9000     test size = 0.5\n",
        "\n",
        "# 12000    test size = 1.0 / 3.0\n",
        "\n",
        "# 14400    test size = 0.20\n",
        "\n",
        "# Using k = 15\n",
        "# for test_val in test_values:\n",
        "#     test_rep2 = []\n",
        "#     train_rep2 = []\n",
        "#     for i in range(nreps2):\n",
        "#         Data_train2, Data_test2, labels_train2, labels_test2 = train_test_split(data, \n",
        "#                                                                             labels, \n",
        "#                                                                             test_size = test_val)\n",
        "#         knn2 = KNeighborsClassifier(n_neighbors = 15)    \n",
        "#         knn2.fit(Data_train2, labels_train2)\n",
        "#         train_rep2.append(knn.score(Data_train2, labels_train2))\n",
        "#         test_rep2.append(knn.score(Data_test2, labels_test2))\n",
        "#     acc2.append([np.mean(np.array(test_rep2)), np.mean(np.array(train_rep2))])\n",
        "# accy2 = np.array(acc2)\n",
        "\n",
        "\n",
        "def test_knn(kval, test_fraction, nreps):\n",
        "    acc = []\n",
        "    std = []\n",
        "    np.random.seed(0)\n",
        "    #\n",
        "    \n",
        "    test_rep = []\n",
        "    train_rep = []\n",
        "    for i in range(nreps):\n",
        "        X_train, X_test, y_train, y_test = model_selection.train_test_split(\n",
        "            data, labels, test_size = test_fraction)\n",
        "        knn = KNeighborsClassifier(n_neighbors = kval)    \n",
        "        knn.fit(X_train, y_train)\n",
        "        test_rep.append(knn.score(X_test, y_test))\n",
        "    acc.append(np.mean(np.array(test_rep)))\n",
        "    std.append(np.std(np.array(test_rep)))\n",
        "    return(np.array(acc), np.array(std)/np.sqrt(nreps))\n",
        "\n",
        "test_fraction1 = 5.0 / 6.0\n",
        "accy1, stds1 = test_knn(k, test_fraction1, 25)\n",
        "\n",
        "test_fraction2 = 2.0/3.0\n",
        "accy2, stds2 = test_knn(k, test_fraction2, 25)\n",
        "\n",
        "test_fraction3 = 0.5\n",
        "accy3, stds3 = test_knn(k, test_fraction3, 25)\n",
        "\n",
        "test_fraction4 = 1.0/3.0\n",
        "accy4, stds4 = test_knn(k, test_fraction4, 25)\n",
        "\n",
        "test_fraction5 = 0.20\n",
        "accy5, stds5 = test_knn(k, test_fraction5, 25)\n",
        "\n",
        "\n"
      ],
      "execution_count": null,
      "outputs": []
    },
    {
      "cell_type": "code",
      "metadata": {
        "id": "BnPOKFWVpzVk"
      },
      "source": [
        "print(accy2[:, 1])"
      ],
      "execution_count": null,
      "outputs": []
    },
    {
      "cell_type": "markdown",
      "metadata": {
        "id": "RqXsGGfCpzVl"
      },
      "source": [
        "### Problem 2. F. Give a few bullet points explaining the pros and cons of these algorithms and when and why we use logistic regression over linear regression.\n",
        "\n",
        "The more data used for training, the better the classifier will tend to perform\n",
        "The less data used for testing, the more variable will be the testing results (but the faster testing will go)\n",
        "\n",
        "\n",
        "#### Linear Regression:\n",
        "\n",
        "In linear regression Maximum Likelihood Estimation of a and b can be found by a closed-form calculation\n",
        "\n",
        "Pros: \n",
        "- linear regression It is a form of supervised learning: whereas classification deals with predicting categorical features (labels or classes), regression deals with predicting continuous features (real values).\n",
        "- less complex and easier to interpret \n",
        "\n",
        "Cons:\n",
        "- Linear functions (a + bx) cannot be used to predict probability directly, because the linear function takes on all values from negative infinity to positive infinity and probability only ranges over (0, 1)\n",
        "- outliers have a big effect on the boundary line\n",
        "- assumes independence between attributes and linear relationship among the variables\n",
        "\n",
        "#### Logistic Regression:\n",
        "\n",
        "So the key properties of a problem that make it appropriate for logistic regression are:\n",
        "\n",
        "- What you can observe is a categorical variable\n",
        "- What you want to estimate is a probability of seeing a particular value of the categorical variable.\n",
        "\n",
        "In logistic regression we use Maximum Likelihood of the parameters, i.e. we choose the parameter values that maximize the likelihood of the data given the model. Can maximize the likelihood function by various kinds of gradient descent.\n",
        "\n",
        "\n",
        "Pros:\n",
        "- Logistic regression can also be considered classification because we can use the probability to determine which group data items belong in or should be classified.\n",
        "- can fit linear functions: to fit a linear function, instead of using odds (p / (1-p) ), we should use log-odds i.e. log (p/(1-p))\n",
        "- independent and dependent variables are related linearly\n",
        "\n",
        "Cons: \n",
        "- overfitting can occur when the number of features is greater than observations\n",
        "- makes boundaries based on lines\n",
        "- can only predict discrete functions\n",
        "- does not perform well with collinearity \n",
        "\n",
        "\n",
        "\n",
        "\n",
        "We use logistic regression over linear regression because it is less susceptible to outliers, also can fit linear functions, and it can classify and perform regression. "
      ]
    },
    {
      "cell_type": "code",
      "metadata": {
        "id": "WHR5uOGDpzVl"
      },
      "source": [
        "plt.plot(train_size, accy1[:, 0], '.-', label = 'Accuracy on Test Data')\n",
        "plt.plot(train_size, accy1[:, 1], '.-', label = 'Accuracy on Training Data')\n",
        "plt.plot(train_size, accy2[:, 0], '.-', label = 'Accuracy on Test Data')\n",
        "plt.plot(train_size, accy2[:, 1], '.-', label = 'Accuracy on Training Data')\n",
        "plt.plot(train_size, accy3[:, 0], '.-', label = 'Accuracy on Test Data')\n",
        "plt.plot(train_size, accy3[:, 1], '.-', label = 'Accuracy on Training Data')\n",
        "plt.plot(train_size, accy4[:, 0], '.-', label = 'Accuracy on Test Data')\n",
        "plt.plot(train_size, accy4[:, 1], '.-', label = 'Accuracy on Training Data')\n",
        "plt.plot(train_size, accy5[:, 0], '.-', label = 'Accuracy on Test Data')\n",
        "plt.plot(train_size, accy5[:, 1], '.-', label = 'Accuracy on Training Data')\n",
        "\n",
        "\n",
        "plt.xlabel(r'Training Size')\n",
        "plt.ylabel('Accuracy')\n",
        "plt.title('Train/Test Comparision of $k$-NN')\n",
        "plt.legend(loc = 'best');\n",
        "\n",
        "\n",
        "# plt.figure(figsize = (7, 5))\n",
        "# plt.errorbar(kvals, accy1, stds1, \n",
        "#              label = f'{test_fraction1:.0%} Used for Testing; accuracy {np.max(accy1):.03f}')\n",
        "# plt.errorbar(kvals, accy2, stds2, \n",
        "#              label = f'{test_fraction2:.0%} Used for Testing; accuracy {np.max(accy2):.03f}')\n",
        "# plt.errorbar(kvals, accy3, stds3, \n",
        "#              label = f'{test_fraction3:.0%} Used for Testing; accuracy {np.max(accy3):.03f}')\n",
        "# plt.errorbar(kvals, accy4, stds4, \n",
        "#              label = f'{test_fraction4:.0%} Used for Testing; accuracy {np.max(accy4):.03f}')\n",
        "# plt.errorbar(kvals, accy5, stds5, \n",
        "#              label = f'{test_fraction5:.0%} Used for Testing; accuracy {np.max(accy5):.03f}')\n",
        "\n",
        "\n",
        "\n",
        "# plt.xlabel('k')\n",
        "# plt.ylabel('Accuracy')\n",
        "# plt.legend(loc = 'best')\n",
        "# plt.xticks(kvals)\n",
        "# best_k = kvals[np.argmax(accy1)]\n",
        "# plt.title(f'Test Accuracy with $\\pm 1\\sigma$ Error Bars');"
      ],
      "execution_count": null,
      "outputs": []
    },
    {
      "cell_type": "code",
      "metadata": {
        "id": "pSgHY2K8pzVm"
      },
      "source": [
        ""
      ],
      "execution_count": null,
      "outputs": []
    },
    {
      "cell_type": "code",
      "metadata": {
        "colab": {
          "base_uri": "https://localhost:8080/"
        },
        "id": "MDe0zOxeXzMc",
        "outputId": "318380ca-b578-4469-f167-86040c3ebdb8"
      },
      "source": [
        "# PROBLEM 3.1\n",
        "from sklearn.preprocessing import StandardScaler\n",
        "\n",
        "data_train3, data_test3, labels_train3, labels_test3 = train_test_split(\n",
        "    data, labels, test_size = 0.20\n",
        ")\n",
        "\n",
        "print(data_train3.shape)\n",
        "scaler = StandardScaler()\n",
        "# Fit on training set\n",
        "scaler.fit(data_train3)\n",
        "\n",
        "data_train3 = scaler.transform(data_train3)\n",
        "\n",
        "print(data_test3.shape)\n",
        "data_test3 = scaler.transform(data_test3)"
      ],
      "execution_count": 24,
      "outputs": [
        {
          "output_type": "stream",
          "name": "stdout",
          "text": [
            "(14400, 784)\n",
            "(3600, 784)\n"
          ]
        }
      ]
    },
    {
      "cell_type": "code",
      "metadata": {
        "id": "EgRbQ-Jlcs_x"
      },
      "source": [
        "from sklearn.decomposition import PCA\n",
        "\n",
        "# model instance of 100% features\n",
        "pca = PCA()\n",
        "\n",
        "\n",
        "pca.fit(data_train3)\n",
        "\n",
        "extra_data_train3 = pca.fit(data_train3)\n",
        "data_train3 = pca.transform(data_train3)\n",
        "data_test3 = pca.transform(data_test3)\n",
        "\n",
        "\n"
      ],
      "execution_count": 29,
      "outputs": []
    },
    {
      "cell_type": "code",
      "metadata": {
        "colab": {
          "base_uri": "https://localhost:8080/",
          "height": 329
        },
        "id": "YG9Z47TpdTE2",
        "outputId": "f70a667c-03fe-4a9c-c949-9aa29ebd5d90"
      },
      "source": [
        "# PROBLEM 3.2 CHOOSE NUMBER OF COMPONENTS\n",
        "# code to plot figure taken from here: \n",
        "#https://www.mikulskibartosz.name/pca-how-to-choose-the-number-of-components/\n",
        "\n",
        "fig, ax = plt.subplots()\n",
        "xi = np.arange(0, 784, step=1)\n",
        "y = np.cumsum(extra_data_train3.explained_variance_ratio_)\n",
        "\n",
        "plt.ylim(0.0,1.1)\n",
        "plt.plot(xi, y, marker='o', linestyle='--', color='b')\n",
        "\n",
        "plt.xlabel('Number of Components')\n",
        "plt.xticks(np.arange(0, 785, step=50)) \n",
        "#change from 0-based array index to 1-based human-readable label\n",
        "plt.ylabel('Cumulative variance (%)')\n",
        "plt.title('The number of components needed to explain variance')\n",
        "\n",
        "plt.axhline(y=0.95, color='r', linestyle='-')\n",
        "plt.text(0.5, 0.85, '95% cut-off threshold', color = 'red', fontsize=16)\n",
        "\n",
        "ax.grid(axis='x')\n",
        "plt.show()\n",
        "\n",
        "print(y[297])\n",
        "print(\"Number of components to reach 95% variance is 297\")"
      ],
      "execution_count": 41,
      "outputs": [
        {
          "output_type": "display_data",
          "data": {
            "image/png": "[encoded data removed]",
            "text/plain": [
              "<Figure size 432x288 with 1 Axes>"
            ]
          },
          "metadata": {
            "needs_background": "light"
          }
        },
        {
          "output_type": "stream",
          "name": "stdout",
          "text": [
            "0.9501302783167722\n",
            "Number of components to reach 95% variance is 297\n"
          ]
        }
      ]
    },
    {
      "cell_type": "code",
      "metadata": {
        "id": "KZcfgpuKht8x"
      },
      "source": [
        ""
      ],
      "execution_count": null,
      "outputs": []
    }
  ]
}